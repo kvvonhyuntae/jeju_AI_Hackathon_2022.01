{
 "cells": [
  {
   "cell_type": "code",
   "execution_count": null,
   "metadata": {},
   "outputs": [],
   "source": [
    "# 입력 매개변수\n",
    "# stnIds : 지역 (108 # 서울)\n",
    "# startDt : 날짜 범위 시작 (19870101)\n",
    "\n",
    "def get_data(startDt_, stnIds_):\n",
    "  from urllib.request import Request, urlopen\n",
    "  from urllib.parse import urlencode, quote_plus\n",
    "  import bs4\n",
    "  import pandas as pd\n",
    "  import numpy as np\n",
    "  from datetime import timedelta\n",
    "\n",
    "  url = 'http://apis.data.go.kr/1360000/AsosDalyInfoService/getWthrDataList'\n",
    "  my_key = 'BPRdYP7eFMFJt+UFCA0ghjAgXCfrhXLNczu+kjlxEHqKPrgLiaYG7sUavuCm/tqxC+nJd5spaBjwEDbo/QelXg=='\n",
    "  \n",
    "  # 날짜 범위의 최대값을 '20210501'로 설정\n",
    "  queryParams = '?' + urlencode({ quote_plus('ServiceKey') : my_key, quote_plus('pageNo') : '1', quote_plus('numOfRows') : '999', quote_plus('dataType') : 'XML', quote_plus('dataCd') : 'ASOS', quote_plus('dateCd') : 'DAY', quote_plus('startDt') : startDt_ , quote_plus('endDt') : '20220111', quote_plus('stnIds') : stnIds_ })\n",
    "\n",
    "  request = Request(url + queryParams)\n",
    "  request.get_method = lambda: 'GET'\n",
    "  response_body = urlopen(request).read()\n",
    "\n",
    "  xmlobj = bs4.BeautifulSoup(response_body, 'lxml-xml')\n",
    "  items = xmlobj.findAll('item')\n",
    "\n",
    "  ## 원하는 형태로 가공\n",
    "  asos = pd.DataFrame()\n",
    "  for i in items:\n",
    "    dic_ = {}\n",
    "    for j in i.find_all():\n",
    "      dic_[j.name] = [j.text]\n",
    "    asos = pd.concat([asos,pd.DataFrame(dic_)],axis=0)\n",
    "  \n",
    "  # 한번에 1000건 이상 요청이 불가능한 상황에 대한 조치\n",
    "  max_ = pd.to_datetime(asos['tm'], format = '%Y-%m-%d').max()\n",
    "  max_1 = max_ + timedelta(days=1)\n",
    "\n",
    "  set_startDt_ = str(max_1.date()).replace('-','')\n",
    "\n",
    "  # 저장된 데이터 프레임과 다음 요청 시 시작될 날짜를 반환\n",
    "  return asos, set_startDt_"
   ]
  },
  {
   "cell_type": "code",
   "execution_count": 2,
   "metadata": {},
   "outputs": [
    {
     "data": {
      "text/plain": [
       "(   stnId stnNm          tm avgTa minTa minTaHrmt maxTa maxTaHrmt mi10MaxRn  \\\n",
       " 0    184    제주  2011-01-01   2.5   0.9       234   3.2         2             \n",
       " 0    184    제주  2011-01-02   3.5   2.8        47   4.2      1437             \n",
       " 0    184    제주  2011-01-03   3.5   2.7      1312   4.1      2327             \n",
       " 0    184    제주  2011-01-04   4.0   2.3       519   4.6      1359             \n",
       " 0    184    제주  2011-01-05   5.1   4.4         9   6.0      1126             \n",
       " ..   ...   ...         ...   ...   ...       ...   ...       ...       ...   \n",
       " 0    184    제주  2013-09-21  24.9  21.7       615  28.0      1451             \n",
       " 0    184    제주  2013-09-22  24.6  23.5         1  25.7      1536       5.5   \n",
       " 0    184    제주  2013-09-23  25.0  22.8       551  27.9      1451       0.3   \n",
       " 0    184    제주  2013-09-24  25.3  22.2       617  28.1      1349             \n",
       " 0    184    제주  2013-09-25  21.7  19.9       916  24.6         1       0.5   \n",
       " \n",
       "    mi10MaxRnHrmt  ... avgM05Te avgM10Te avgM15Te avgM30Te avgM50Te sumLrgEv  \\\n",
       " 0                 ...      9.8     14.0     15.9     18.5     19.5            \n",
       " 0                 ...      9.9     13.5     15.8     18.8     19.5            \n",
       " 0                 ...      9.1     13.6     15.7     18.3     19.3            \n",
       " 0                 ...      9.6     13.7     15.7     18.2     19.4            \n",
       " 0                 ...      9.5     13.7     15.3     18.0     19.4            \n",
       " ..           ...  ...      ...      ...      ...      ...      ...      ...   \n",
       " 0                 ...     27.0     25.8     25.0     23.2     19.3      4.7   \n",
       " 0            657  ...     27.1     25.9     24.9     23.2     19.6      0.9   \n",
       " 0          -2356  ...     26.6     25.8     24.9     23.1     19.6      2.0   \n",
       " 0                 ...     26.6     25.7     24.8     23.4     19.5      3.8   \n",
       " 0            805  ...     26.9     25.7     24.7     22.3     19.4      4.3   \n",
       " \n",
       "    sumSmlEv n99Rn                                               iscs sumFogDur  \n",
       " 0       1.6   0.3  {소낙눈}0015-{소낙눈}{강도0}0300-{소낙눈}{강도0}0600-0825. ...            \n",
       " 0       1.3   0.0                                                               \n",
       " 0       1.4   2.7  {소낙성진눈깨비}0845-0858. {소낙성진눈깨비}0950-1010. {소낙성진눈...            \n",
       " 0       1.5        {소나기}0127-0136. {소나기}0210-0256. {소나기}0308-0331...            \n",
       " 0       1.7   0.0                                                               \n",
       " ..      ...   ...                                                ...       ...  \n",
       " 0       8.1  12.5                                                               \n",
       " 0       1.3   1.8  {비}0448-0556. {비}0626-{비}{강도0}0900-1126. {비}12...            \n",
       " 0       4.3        -{박무}-{박무}{강도0}0300-0512. -{비}-0020. {비}0245-{...            \n",
       " 0       5.5   2.2                                                               \n",
       " 0       5.4   0.1  {비}0508-{비}{강도0}0600-{비}{강도0}0900-0920. {박무}07...            \n",
       " \n",
       " [999 rows x 62 columns],\n",
       " '20130926')"
      ]
     },
     "execution_count": 2,
     "metadata": {},
     "output_type": "execute_result"
    }
   ],
   "source": [
    "get_data('20110101', '184')"
   ]
  },
  {
   "cell_type": "code",
   "execution_count": 20,
   "metadata": {},
   "outputs": [],
   "source": [
    "startDt_ = '20200101'\n",
    "stnIds_ = '184'"
   ]
  },
  {
   "cell_type": "code",
   "execution_count": 21,
   "metadata": {},
   "outputs": [
    {
     "name": "stdout",
     "output_type": "stream",
     "text": [
      "20220112\n"
     ]
    },
    {
     "ename": "KeyError",
     "evalue": "'tm'",
     "output_type": "error",
     "traceback": [
      "\u001B[1;31m---------------------------------------------------------------------------\u001B[0m",
      "\u001B[1;31mKeyError\u001B[0m                                  Traceback (most recent call last)",
      "\u001B[1;32m~\\anaconda3\\lib\\site-packages\\pandas\\core\\indexes\\base.py\u001B[0m in \u001B[0;36mget_loc\u001B[1;34m(self, key, method, tolerance)\u001B[0m\n\u001B[0;32m   3079\u001B[0m             \u001B[1;32mtry\u001B[0m\u001B[1;33m:\u001B[0m\u001B[1;33m\u001B[0m\u001B[1;33m\u001B[0m\u001B[0m\n\u001B[1;32m-> 3080\u001B[1;33m                 \u001B[1;32mreturn\u001B[0m \u001B[0mself\u001B[0m\u001B[1;33m.\u001B[0m\u001B[0m_engine\u001B[0m\u001B[1;33m.\u001B[0m\u001B[0mget_loc\u001B[0m\u001B[1;33m(\u001B[0m\u001B[0mcasted_key\u001B[0m\u001B[1;33m)\u001B[0m\u001B[1;33m\u001B[0m\u001B[1;33m\u001B[0m\u001B[0m\n\u001B[0m\u001B[0;32m   3081\u001B[0m             \u001B[1;32mexcept\u001B[0m \u001B[0mKeyError\u001B[0m \u001B[1;32mas\u001B[0m \u001B[0merr\u001B[0m\u001B[1;33m:\u001B[0m\u001B[1;33m\u001B[0m\u001B[1;33m\u001B[0m\u001B[0m\n",
      "\u001B[1;32mpandas\\_libs\\index.pyx\u001B[0m in \u001B[0;36mpandas._libs.index.IndexEngine.get_loc\u001B[1;34m()\u001B[0m\n",
      "\u001B[1;32mpandas\\_libs\\index.pyx\u001B[0m in \u001B[0;36mpandas._libs.index.IndexEngine.get_loc\u001B[1;34m()\u001B[0m\n",
      "\u001B[1;32mpandas\\_libs\\hashtable_class_helper.pxi\u001B[0m in \u001B[0;36mpandas._libs.hashtable.PyObjectHashTable.get_item\u001B[1;34m()\u001B[0m\n",
      "\u001B[1;32mpandas\\_libs\\hashtable_class_helper.pxi\u001B[0m in \u001B[0;36mpandas._libs.hashtable.PyObjectHashTable.get_item\u001B[1;34m()\u001B[0m\n",
      "\u001B[1;31mKeyError\u001B[0m: 'tm'",
      "\nThe above exception was the direct cause of the following exception:\n",
      "\u001B[1;31mKeyError\u001B[0m                                  Traceback (most recent call last)",
      "\u001B[1;32m<ipython-input-21-d03d7f9217f8>\u001B[0m in \u001B[0;36m<module>\u001B[1;34m\u001B[0m\n\u001B[0;32m      2\u001B[0m \u001B[0masos_\u001B[0m \u001B[1;33m=\u001B[0m \u001B[0mpd\u001B[0m\u001B[1;33m.\u001B[0m\u001B[0mDataFrame\u001B[0m\u001B[1;33m(\u001B[0m\u001B[1;33m)\u001B[0m\u001B[1;33m\u001B[0m\u001B[1;33m\u001B[0m\u001B[0m\n\u001B[0;32m      3\u001B[0m \u001B[1;32mwhile\u001B[0m \u001B[0mstartDt_\u001B[0m \u001B[1;33m!=\u001B[0m \u001B[1;34m'20220111'\u001B[0m\u001B[1;33m:\u001B[0m\u001B[1;33m\u001B[0m\u001B[1;33m\u001B[0m\u001B[0m\n\u001B[1;32m----> 4\u001B[1;33m     \u001B[0mtemp_asos_\u001B[0m\u001B[1;33m,\u001B[0m \u001B[0mstartDt_\u001B[0m \u001B[1;33m=\u001B[0m \u001B[0mget_data\u001B[0m\u001B[1;33m(\u001B[0m\u001B[0mstartDt_\u001B[0m\u001B[1;33m,\u001B[0m\u001B[0mstnIds_\u001B[0m\u001B[1;33m)\u001B[0m\u001B[1;33m\u001B[0m\u001B[1;33m\u001B[0m\u001B[0m\n\u001B[0m\u001B[0;32m      5\u001B[0m     \u001B[0masos_\u001B[0m \u001B[1;33m=\u001B[0m \u001B[0mpd\u001B[0m\u001B[1;33m.\u001B[0m\u001B[0mconcat\u001B[0m\u001B[1;33m(\u001B[0m\u001B[1;33m[\u001B[0m\u001B[0masos_\u001B[0m\u001B[1;33m,\u001B[0m\u001B[0mtemp_asos_\u001B[0m\u001B[1;33m]\u001B[0m\u001B[1;33m,\u001B[0m\u001B[0maxis\u001B[0m\u001B[1;33m=\u001B[0m\u001B[1;36m0\u001B[0m\u001B[1;33m)\u001B[0m\u001B[1;33m\u001B[0m\u001B[1;33m\u001B[0m\u001B[0m\n\u001B[0;32m      6\u001B[0m     \u001B[0mprint\u001B[0m\u001B[1;33m(\u001B[0m\u001B[0mstartDt_\u001B[0m\u001B[1;33m)\u001B[0m\u001B[1;33m\u001B[0m\u001B[1;33m\u001B[0m\u001B[0m\n",
      "\u001B[1;32m<ipython-input-12-3065bbcb32f0>\u001B[0m in \u001B[0;36mget_data\u001B[1;34m(startDt_, stnIds_)\u001B[0m\n\u001B[0;32m     33\u001B[0m \u001B[1;33m\u001B[0m\u001B[0m\n\u001B[0;32m     34\u001B[0m   \u001B[1;31m# 한번에 1000건 이상 요청이 불가능한 상황에 대한 조치\u001B[0m\u001B[1;33m\u001B[0m\u001B[1;33m\u001B[0m\u001B[1;33m\u001B[0m\u001B[0m\n\u001B[1;32m---> 35\u001B[1;33m   \u001B[0mmax_\u001B[0m \u001B[1;33m=\u001B[0m \u001B[0mpd\u001B[0m\u001B[1;33m.\u001B[0m\u001B[0mto_datetime\u001B[0m\u001B[1;33m(\u001B[0m\u001B[0masos\u001B[0m\u001B[1;33m[\u001B[0m\u001B[1;34m'tm'\u001B[0m\u001B[1;33m]\u001B[0m\u001B[1;33m,\u001B[0m \u001B[0mformat\u001B[0m \u001B[1;33m=\u001B[0m \u001B[1;34m'%Y-%m-%d'\u001B[0m\u001B[1;33m)\u001B[0m\u001B[1;33m.\u001B[0m\u001B[0mmax\u001B[0m\u001B[1;33m(\u001B[0m\u001B[1;33m)\u001B[0m\u001B[1;33m\u001B[0m\u001B[1;33m\u001B[0m\u001B[0m\n\u001B[0m\u001B[0;32m     36\u001B[0m   \u001B[0mmax_1\u001B[0m \u001B[1;33m=\u001B[0m \u001B[0mmax_\u001B[0m \u001B[1;33m+\u001B[0m \u001B[0mtimedelta\u001B[0m\u001B[1;33m(\u001B[0m\u001B[0mdays\u001B[0m\u001B[1;33m=\u001B[0m\u001B[1;36m1\u001B[0m\u001B[1;33m)\u001B[0m\u001B[1;33m\u001B[0m\u001B[1;33m\u001B[0m\u001B[0m\n\u001B[0;32m     37\u001B[0m \u001B[1;33m\u001B[0m\u001B[0m\n",
      "\u001B[1;32m~\\anaconda3\\lib\\site-packages\\pandas\\core\\frame.py\u001B[0m in \u001B[0;36m__getitem__\u001B[1;34m(self, key)\u001B[0m\n\u001B[0;32m   3022\u001B[0m             \u001B[1;32mif\u001B[0m \u001B[0mself\u001B[0m\u001B[1;33m.\u001B[0m\u001B[0mcolumns\u001B[0m\u001B[1;33m.\u001B[0m\u001B[0mnlevels\u001B[0m \u001B[1;33m>\u001B[0m \u001B[1;36m1\u001B[0m\u001B[1;33m:\u001B[0m\u001B[1;33m\u001B[0m\u001B[1;33m\u001B[0m\u001B[0m\n\u001B[0;32m   3023\u001B[0m                 \u001B[1;32mreturn\u001B[0m \u001B[0mself\u001B[0m\u001B[1;33m.\u001B[0m\u001B[0m_getitem_multilevel\u001B[0m\u001B[1;33m(\u001B[0m\u001B[0mkey\u001B[0m\u001B[1;33m)\u001B[0m\u001B[1;33m\u001B[0m\u001B[1;33m\u001B[0m\u001B[0m\n\u001B[1;32m-> 3024\u001B[1;33m             \u001B[0mindexer\u001B[0m \u001B[1;33m=\u001B[0m \u001B[0mself\u001B[0m\u001B[1;33m.\u001B[0m\u001B[0mcolumns\u001B[0m\u001B[1;33m.\u001B[0m\u001B[0mget_loc\u001B[0m\u001B[1;33m(\u001B[0m\u001B[0mkey\u001B[0m\u001B[1;33m)\u001B[0m\u001B[1;33m\u001B[0m\u001B[1;33m\u001B[0m\u001B[0m\n\u001B[0m\u001B[0;32m   3025\u001B[0m             \u001B[1;32mif\u001B[0m \u001B[0mis_integer\u001B[0m\u001B[1;33m(\u001B[0m\u001B[0mindexer\u001B[0m\u001B[1;33m)\u001B[0m\u001B[1;33m:\u001B[0m\u001B[1;33m\u001B[0m\u001B[1;33m\u001B[0m\u001B[0m\n\u001B[0;32m   3026\u001B[0m                 \u001B[0mindexer\u001B[0m \u001B[1;33m=\u001B[0m \u001B[1;33m[\u001B[0m\u001B[0mindexer\u001B[0m\u001B[1;33m]\u001B[0m\u001B[1;33m\u001B[0m\u001B[1;33m\u001B[0m\u001B[0m\n",
      "\u001B[1;32m~\\anaconda3\\lib\\site-packages\\pandas\\core\\indexes\\base.py\u001B[0m in \u001B[0;36mget_loc\u001B[1;34m(self, key, method, tolerance)\u001B[0m\n\u001B[0;32m   3080\u001B[0m                 \u001B[1;32mreturn\u001B[0m \u001B[0mself\u001B[0m\u001B[1;33m.\u001B[0m\u001B[0m_engine\u001B[0m\u001B[1;33m.\u001B[0m\u001B[0mget_loc\u001B[0m\u001B[1;33m(\u001B[0m\u001B[0mcasted_key\u001B[0m\u001B[1;33m)\u001B[0m\u001B[1;33m\u001B[0m\u001B[1;33m\u001B[0m\u001B[0m\n\u001B[0;32m   3081\u001B[0m             \u001B[1;32mexcept\u001B[0m \u001B[0mKeyError\u001B[0m \u001B[1;32mas\u001B[0m \u001B[0merr\u001B[0m\u001B[1;33m:\u001B[0m\u001B[1;33m\u001B[0m\u001B[1;33m\u001B[0m\u001B[0m\n\u001B[1;32m-> 3082\u001B[1;33m                 \u001B[1;32mraise\u001B[0m \u001B[0mKeyError\u001B[0m\u001B[1;33m(\u001B[0m\u001B[0mkey\u001B[0m\u001B[1;33m)\u001B[0m \u001B[1;32mfrom\u001B[0m \u001B[0merr\u001B[0m\u001B[1;33m\u001B[0m\u001B[1;33m\u001B[0m\u001B[0m\n\u001B[0m\u001B[0;32m   3083\u001B[0m \u001B[1;33m\u001B[0m\u001B[0m\n\u001B[0;32m   3084\u001B[0m         \u001B[1;32mif\u001B[0m \u001B[0mtolerance\u001B[0m \u001B[1;32mis\u001B[0m \u001B[1;32mnot\u001B[0m \u001B[1;32mNone\u001B[0m\u001B[1;33m:\u001B[0m\u001B[1;33m\u001B[0m\u001B[1;33m\u001B[0m\u001B[0m\n",
      "\u001B[1;31mKeyError\u001B[0m: 'tm'"
     ]
    }
   ],
   "source": [
    "import pandas as pd\n",
    "asos_ = pd.DataFrame()\n",
    "while startDt_ != '20220111':\n",
    "    temp_asos_, startDt_ = get_data(startDt_,stnIds_)\n",
    "    asos_ = pd.concat([asos_,temp_asos_],axis=0)\n",
    "    print(startDt_)"
   ]
  },
  {
   "cell_type": "code",
   "execution_count": null,
   "metadata": {},
   "outputs": [],
   "source": [
    "asos_"
   ]
  },
  {
   "cell_type": "code",
   "execution_count": null,
   "metadata": {},
   "outputs": [],
   "source": []
  }
 ],
 "metadata": {
  "interpreter": {
   "hash": "c81169c30fb96244cfba0db287a0d3fd5325268de070a7a6116eecd4596df902"
  },
  "kernelspec": {
   "display_name": "Python 3.8.12 64-bit ('base': conda)",
   "language": "python",
   "name": "python3"
  },
  "language_info": {
   "codemirror_mode": {
    "name": "ipython",
    "version": 3
   },
   "file_extension": ".py",
   "mimetype": "text/x-python",
   "name": "python",
   "nbconvert_exporter": "python",
   "pygments_lexer": "ipython3",
   "version": "3.8.8"
  },
  "orig_nbformat": 4
 },
 "nbformat": 4,
 "nbformat_minor": 2
}