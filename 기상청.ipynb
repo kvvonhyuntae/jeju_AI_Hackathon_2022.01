{
 "cells": [
  {
   "cell_type": "code",
   "execution_count": 41,
   "metadata": {
    "collapsed": true
   },
   "outputs": [],
   "source": [
    "import pandas as pd\n",
    "import numpy as np\n",
    "import re"
   ]
  },
  {
   "cell_type": "code",
   "execution_count": 49,
   "outputs": [
    {
     "data": {
      "text/plain": "     0    1   2           3    4    5     6     7     8   9   ...    53    54  \\\n0     0  184  제주  2020-01-01  5.2  2.4     1   7.3  1337 NaN  ...  12.7  13.9   \n1     0  184  제주  2020-01-02  8.1  5.5   335   9.2  1502 NaN  ...  12.1  13.6   \n2     0  184  제주  2020-01-03  8.8  6.4  2400  11.4  1043 NaN  ...  12.0  13.5   \n3     0  184  제주  2020-01-04  7.9  5.1   331  11.4  1225 NaN  ...  11.9  13.4   \n4     0  184  제주  2020-01-05  8.5  4.3   640  11.1  1235 NaN  ...  11.9  13.4   \n..   ..  ...  ..         ...  ...  ...   ...   ...   ...  ..  ...   ...   ...   \n737   0  184  제주  2022-01-07  5.6  2.2   749  10.4  1449 NaN  ...   9.3  11.7   \n738   0  184  제주  2022-01-08  6.6  3.5   118   8.3  1250 NaN  ...   9.3  11.6   \n739   0  184  제주  2022-01-09  7.7  5.2   246   9.6  1545 NaN  ...   9.3  11.5   \n740   0  184  제주  2022-01-10  7.6  5.5   744  10.3  1237 NaN  ...   9.3  11.5   \n741   0  184  제주  2022-01-11  3.6  1.3  1254   7.7   132 NaN  ...   9.9  11.7   \n\n       55    56    57   58   59   60  \\\n0    13.9  18.8  20.1  1.0  1.4  NaN   \n1    13.8  18.7  20.0  0.9  1.2  NaN   \n2    14.0  18.7  20.0  1.1  1.6  NaN   \n3    13.8  18.6  20.0  1.9  2.7  NaN   \n4    13.8  18.6  20.0  1.8  2.6  0.0   \n..    ...   ...   ...  ...  ...  ...   \n737  12.4  17.5  19.3  1.9  2.7  NaN   \n738  12.4  17.5  19.3  1.1  1.5  NaN   \n739  12.3  17.4  19.3  0.8  1.2  NaN   \n740  12.3  17.4  19.3  1.4  2.0  1.4   \n741  11.9  15.4  18.5  NaN  NaN  NaN   \n\n                                                    61  62  \n0                                                  NaN NaN  \n1                                                  NaN NaN  \n2    {연무}1525-{연무}{강도0}1800-1852. {연무}2215-2310. {박... NaN  \n3    -{박무}-0245. {연무}0734-{연무}{강도0}0900-0930. {연무}1... NaN  \n4    {박무}0010-{박무}{강도0}0300-0453. -{연무}-0015. {연무}1... NaN  \n..                                                 ...  ..  \n737                                                NaN NaN  \n738                                                NaN NaN  \n739  {연무}0645-{연무}{강도0}0900-{연무}{강도0}1200-{연무}{강도0}... NaN  \n740  -{연무}-{연무}{강도0}0300-{연무}{강도0}0600-0705. {비}221... NaN  \n741  -{비}-0033. {비}0129-{비}{강도0}0300-0535. {비}0617-... NaN  \n\n[742 rows x 63 columns]",
      "text/html": "<div>\n<style scoped>\n    .dataframe tbody tr th:only-of-type {\n        vertical-align: middle;\n    }\n\n    .dataframe tbody tr th {\n        vertical-align: top;\n    }\n\n    .dataframe thead th {\n        text-align: right;\n    }\n</style>\n<table border=\"1\" class=\"dataframe\">\n  <thead>\n    <tr style=\"text-align: right;\">\n      <th></th>\n      <th>0</th>\n      <th>1</th>\n      <th>2</th>\n      <th>3</th>\n      <th>4</th>\n      <th>5</th>\n      <th>6</th>\n      <th>7</th>\n      <th>8</th>\n      <th>9</th>\n      <th>...</th>\n      <th>53</th>\n      <th>54</th>\n      <th>55</th>\n      <th>56</th>\n      <th>57</th>\n      <th>58</th>\n      <th>59</th>\n      <th>60</th>\n      <th>61</th>\n      <th>62</th>\n    </tr>\n  </thead>\n  <tbody>\n    <tr>\n      <th>0</th>\n      <td>0</td>\n      <td>184</td>\n      <td>제주</td>\n      <td>2020-01-01</td>\n      <td>5.2</td>\n      <td>2.4</td>\n      <td>1</td>\n      <td>7.3</td>\n      <td>1337</td>\n      <td>NaN</td>\n      <td>...</td>\n      <td>12.7</td>\n      <td>13.9</td>\n      <td>13.9</td>\n      <td>18.8</td>\n      <td>20.1</td>\n      <td>1.0</td>\n      <td>1.4</td>\n      <td>NaN</td>\n      <td>NaN</td>\n      <td>NaN</td>\n    </tr>\n    <tr>\n      <th>1</th>\n      <td>0</td>\n      <td>184</td>\n      <td>제주</td>\n      <td>2020-01-02</td>\n      <td>8.1</td>\n      <td>5.5</td>\n      <td>335</td>\n      <td>9.2</td>\n      <td>1502</td>\n      <td>NaN</td>\n      <td>...</td>\n      <td>12.1</td>\n      <td>13.6</td>\n      <td>13.8</td>\n      <td>18.7</td>\n      <td>20.0</td>\n      <td>0.9</td>\n      <td>1.2</td>\n      <td>NaN</td>\n      <td>NaN</td>\n      <td>NaN</td>\n    </tr>\n    <tr>\n      <th>2</th>\n      <td>0</td>\n      <td>184</td>\n      <td>제주</td>\n      <td>2020-01-03</td>\n      <td>8.8</td>\n      <td>6.4</td>\n      <td>2400</td>\n      <td>11.4</td>\n      <td>1043</td>\n      <td>NaN</td>\n      <td>...</td>\n      <td>12.0</td>\n      <td>13.5</td>\n      <td>14.0</td>\n      <td>18.7</td>\n      <td>20.0</td>\n      <td>1.1</td>\n      <td>1.6</td>\n      <td>NaN</td>\n      <td>{연무}1525-{연무}{강도0}1800-1852. {연무}2215-2310. {박...</td>\n      <td>NaN</td>\n    </tr>\n    <tr>\n      <th>3</th>\n      <td>0</td>\n      <td>184</td>\n      <td>제주</td>\n      <td>2020-01-04</td>\n      <td>7.9</td>\n      <td>5.1</td>\n      <td>331</td>\n      <td>11.4</td>\n      <td>1225</td>\n      <td>NaN</td>\n      <td>...</td>\n      <td>11.9</td>\n      <td>13.4</td>\n      <td>13.8</td>\n      <td>18.6</td>\n      <td>20.0</td>\n      <td>1.9</td>\n      <td>2.7</td>\n      <td>NaN</td>\n      <td>-{박무}-0245. {연무}0734-{연무}{강도0}0900-0930. {연무}1...</td>\n      <td>NaN</td>\n    </tr>\n    <tr>\n      <th>4</th>\n      <td>0</td>\n      <td>184</td>\n      <td>제주</td>\n      <td>2020-01-05</td>\n      <td>8.5</td>\n      <td>4.3</td>\n      <td>640</td>\n      <td>11.1</td>\n      <td>1235</td>\n      <td>NaN</td>\n      <td>...</td>\n      <td>11.9</td>\n      <td>13.4</td>\n      <td>13.8</td>\n      <td>18.6</td>\n      <td>20.0</td>\n      <td>1.8</td>\n      <td>2.6</td>\n      <td>0.0</td>\n      <td>{박무}0010-{박무}{강도0}0300-0453. -{연무}-0015. {연무}1...</td>\n      <td>NaN</td>\n    </tr>\n    <tr>\n      <th>...</th>\n      <td>...</td>\n      <td>...</td>\n      <td>...</td>\n      <td>...</td>\n      <td>...</td>\n      <td>...</td>\n      <td>...</td>\n      <td>...</td>\n      <td>...</td>\n      <td>...</td>\n      <td>...</td>\n      <td>...</td>\n      <td>...</td>\n      <td>...</td>\n      <td>...</td>\n      <td>...</td>\n      <td>...</td>\n      <td>...</td>\n      <td>...</td>\n      <td>...</td>\n      <td>...</td>\n    </tr>\n    <tr>\n      <th>737</th>\n      <td>0</td>\n      <td>184</td>\n      <td>제주</td>\n      <td>2022-01-07</td>\n      <td>5.6</td>\n      <td>2.2</td>\n      <td>749</td>\n      <td>10.4</td>\n      <td>1449</td>\n      <td>NaN</td>\n      <td>...</td>\n      <td>9.3</td>\n      <td>11.7</td>\n      <td>12.4</td>\n      <td>17.5</td>\n      <td>19.3</td>\n      <td>1.9</td>\n      <td>2.7</td>\n      <td>NaN</td>\n      <td>NaN</td>\n      <td>NaN</td>\n    </tr>\n    <tr>\n      <th>738</th>\n      <td>0</td>\n      <td>184</td>\n      <td>제주</td>\n      <td>2022-01-08</td>\n      <td>6.6</td>\n      <td>3.5</td>\n      <td>118</td>\n      <td>8.3</td>\n      <td>1250</td>\n      <td>NaN</td>\n      <td>...</td>\n      <td>9.3</td>\n      <td>11.6</td>\n      <td>12.4</td>\n      <td>17.5</td>\n      <td>19.3</td>\n      <td>1.1</td>\n      <td>1.5</td>\n      <td>NaN</td>\n      <td>NaN</td>\n      <td>NaN</td>\n    </tr>\n    <tr>\n      <th>739</th>\n      <td>0</td>\n      <td>184</td>\n      <td>제주</td>\n      <td>2022-01-09</td>\n      <td>7.7</td>\n      <td>5.2</td>\n      <td>246</td>\n      <td>9.6</td>\n      <td>1545</td>\n      <td>NaN</td>\n      <td>...</td>\n      <td>9.3</td>\n      <td>11.5</td>\n      <td>12.3</td>\n      <td>17.4</td>\n      <td>19.3</td>\n      <td>0.8</td>\n      <td>1.2</td>\n      <td>NaN</td>\n      <td>{연무}0645-{연무}{강도0}0900-{연무}{강도0}1200-{연무}{강도0}...</td>\n      <td>NaN</td>\n    </tr>\n    <tr>\n      <th>740</th>\n      <td>0</td>\n      <td>184</td>\n      <td>제주</td>\n      <td>2022-01-10</td>\n      <td>7.6</td>\n      <td>5.5</td>\n      <td>744</td>\n      <td>10.3</td>\n      <td>1237</td>\n      <td>NaN</td>\n      <td>...</td>\n      <td>9.3</td>\n      <td>11.5</td>\n      <td>12.3</td>\n      <td>17.4</td>\n      <td>19.3</td>\n      <td>1.4</td>\n      <td>2.0</td>\n      <td>1.4</td>\n      <td>-{연무}-{연무}{강도0}0300-{연무}{강도0}0600-0705. {비}221...</td>\n      <td>NaN</td>\n    </tr>\n    <tr>\n      <th>741</th>\n      <td>0</td>\n      <td>184</td>\n      <td>제주</td>\n      <td>2022-01-11</td>\n      <td>3.6</td>\n      <td>1.3</td>\n      <td>1254</td>\n      <td>7.7</td>\n      <td>132</td>\n      <td>NaN</td>\n      <td>...</td>\n      <td>9.9</td>\n      <td>11.7</td>\n      <td>11.9</td>\n      <td>15.4</td>\n      <td>18.5</td>\n      <td>NaN</td>\n      <td>NaN</td>\n      <td>NaN</td>\n      <td>-{비}-0033. {비}0129-{비}{강도0}0300-0535. {비}0617-...</td>\n      <td>NaN</td>\n    </tr>\n  </tbody>\n</table>\n<p>742 rows × 63 columns</p>\n</div>"
     },
     "execution_count": 49,
     "metadata": {},
     "output_type": "execute_result"
    }
   ],
   "source": [
    "asos = pd.read_csv('기상청asos.csv', header=None, skiprows=1)\n",
    "column = pd.read_csv('columns.csv')\n",
    "asos"
   ],
   "metadata": {
    "collapsed": false,
    "pycharm": {
     "name": "#%%\n"
    }
   }
  },
  {
   "cell_type": "code",
   "execution_count": 50,
   "outputs": [
    {
     "data": {
      "text/plain": "           0\n0          영\n1      지점 번호\n2        지점명\n3         시간\n4      평균 기온\n..       ...\n58  합계 대형증발량\n59  합계 소형증발량\n60     9-9강수\n61      일기현상\n62  안개 계속 시간\n\n[63 rows x 1 columns]",
      "text/html": "<div>\n<style scoped>\n    .dataframe tbody tr th:only-of-type {\n        vertical-align: middle;\n    }\n\n    .dataframe tbody tr th {\n        vertical-align: top;\n    }\n\n    .dataframe thead th {\n        text-align: right;\n    }\n</style>\n<table border=\"1\" class=\"dataframe\">\n  <thead>\n    <tr style=\"text-align: right;\">\n      <th></th>\n      <th>0</th>\n    </tr>\n  </thead>\n  <tbody>\n    <tr>\n      <th>0</th>\n      <td>영</td>\n    </tr>\n    <tr>\n      <th>1</th>\n      <td>지점 번호</td>\n    </tr>\n    <tr>\n      <th>2</th>\n      <td>지점명</td>\n    </tr>\n    <tr>\n      <th>3</th>\n      <td>시간</td>\n    </tr>\n    <tr>\n      <th>4</th>\n      <td>평균 기온</td>\n    </tr>\n    <tr>\n      <th>...</th>\n      <td>...</td>\n    </tr>\n    <tr>\n      <th>58</th>\n      <td>합계 대형증발량</td>\n    </tr>\n    <tr>\n      <th>59</th>\n      <td>합계 소형증발량</td>\n    </tr>\n    <tr>\n      <th>60</th>\n      <td>9-9강수</td>\n    </tr>\n    <tr>\n      <th>61</th>\n      <td>일기현상</td>\n    </tr>\n    <tr>\n      <th>62</th>\n      <td>안개 계속 시간</td>\n    </tr>\n  </tbody>\n</table>\n<p>63 rows × 1 columns</p>\n</div>"
     },
     "execution_count": 50,
     "metadata": {},
     "output_type": "execute_result"
    }
   ],
   "source": [
    "column = pd.read_csv('columns.csv', header=None)\n",
    "column"
   ],
   "metadata": {
    "collapsed": false,
    "pycharm": {
     "name": "#%%\n"
    }
   }
  },
  {
   "cell_type": "code",
   "execution_count": 51,
   "outputs": [],
   "source": [
    "asos.columns = column"
   ],
   "metadata": {
    "collapsed": false,
    "pycharm": {
     "name": "#%%\n"
    }
   }
  },
  {
   "cell_type": "code",
   "execution_count": 52,
   "outputs": [
    {
     "data": {
      "text/plain": "     (영,)  (지점 번호,) (지점명,)       (시간,)  (평균 기온,)  (최저기온,)  (최저 기온 시각,)  \\\n0       0       184     제주  2020-01-01       5.2      2.4            1   \n1       0       184     제주  2020-01-02       8.1      5.5          335   \n2       0       184     제주  2020-01-03       8.8      6.4         2400   \n3       0       184     제주  2020-01-04       7.9      5.1          331   \n4       0       184     제주  2020-01-05       8.5      4.3          640   \n..    ...       ...    ...         ...       ...      ...          ...   \n737     0       184     제주  2022-01-07       5.6      2.2          749   \n738     0       184     제주  2022-01-08       6.6      3.5          118   \n739     0       184     제주  2022-01-09       7.7      5.2          246   \n740     0       184     제주  2022-01-10       7.6      5.5          744   \n741     0       184     제주  2022-01-11       3.6      1.3         1254   \n\n     (최고기온,)  (최고기온 시각,)  (강수 계속 시간,)  ...  (0.5m 지중온도,)  (1.0m 지중온도,)  \\\n0        7.3        1337          NaN  ...          12.7          13.9   \n1        9.2        1502          NaN  ...          12.1          13.6   \n2       11.4        1043          NaN  ...          12.0          13.5   \n3       11.4        1225          NaN  ...          11.9          13.4   \n4       11.1        1235          NaN  ...          11.9          13.4   \n..       ...         ...          ...  ...           ...           ...   \n737     10.4        1449          NaN  ...           9.3          11.7   \n738      8.3        1250          NaN  ...           9.3          11.6   \n739      9.6        1545          NaN  ...           9.3          11.5   \n740     10.3        1237          NaN  ...           9.3          11.5   \n741      7.7         132          NaN  ...           9.9          11.7   \n\n     (1.5m 지중온도,)  (3.0m 지중온도,)  (5.0m 지중온도,)  (합계 대형증발량,)  (합계 소형증발량,)  \\\n0            13.9          18.8          20.1          1.0          1.4   \n1            13.8          18.7          20.0          0.9          1.2   \n2            14.0          18.7          20.0          1.1          1.6   \n3            13.8          18.6          20.0          1.9          2.7   \n4            13.8          18.6          20.0          1.8          2.6   \n..            ...           ...           ...          ...          ...   \n737          12.4          17.5          19.3          1.9          2.7   \n738          12.4          17.5          19.3          1.1          1.5   \n739          12.3          17.4          19.3          0.8          1.2   \n740          12.3          17.4          19.3          1.4          2.0   \n741          11.9          15.4          18.5          NaN          NaN   \n\n     (9-9강수,)                                            (일기현상,)  (안개 계속 시간,)  \n0         NaN                                                NaN          NaN  \n1         NaN                                                NaN          NaN  \n2         NaN  {연무}1525-{연무}{강도0}1800-1852. {연무}2215-2310. {박...          NaN  \n3         NaN  -{박무}-0245. {연무}0734-{연무}{강도0}0900-0930. {연무}1...          NaN  \n4         0.0  {박무}0010-{박무}{강도0}0300-0453. -{연무}-0015. {연무}1...          NaN  \n..        ...                                                ...          ...  \n737       NaN                                                NaN          NaN  \n738       NaN                                                NaN          NaN  \n739       NaN  {연무}0645-{연무}{강도0}0900-{연무}{강도0}1200-{연무}{강도0}...          NaN  \n740       1.4  -{연무}-{연무}{강도0}0300-{연무}{강도0}0600-0705. {비}221...          NaN  \n741       NaN  -{비}-0033. {비}0129-{비}{강도0}0300-0535. {비}0617-...          NaN  \n\n[742 rows x 63 columns]",
      "text/html": "<div>\n<style scoped>\n    .dataframe tbody tr th:only-of-type {\n        vertical-align: middle;\n    }\n\n    .dataframe tbody tr th {\n        vertical-align: top;\n    }\n\n    .dataframe thead th {\n        text-align: right;\n    }\n</style>\n<table border=\"1\" class=\"dataframe\">\n  <thead>\n    <tr style=\"text-align: right;\">\n      <th></th>\n      <th>(영,)</th>\n      <th>(지점 번호,)</th>\n      <th>(지점명,)</th>\n      <th>(시간,)</th>\n      <th>(평균 기온,)</th>\n      <th>(최저기온,)</th>\n      <th>(최저 기온 시각,)</th>\n      <th>(최고기온,)</th>\n      <th>(최고기온 시각,)</th>\n      <th>(강수 계속 시간,)</th>\n      <th>...</th>\n      <th>(0.5m 지중온도,)</th>\n      <th>(1.0m 지중온도,)</th>\n      <th>(1.5m 지중온도,)</th>\n      <th>(3.0m 지중온도,)</th>\n      <th>(5.0m 지중온도,)</th>\n      <th>(합계 대형증발량,)</th>\n      <th>(합계 소형증발량,)</th>\n      <th>(9-9강수,)</th>\n      <th>(일기현상,)</th>\n      <th>(안개 계속 시간,)</th>\n    </tr>\n  </thead>\n  <tbody>\n    <tr>\n      <th>0</th>\n      <td>0</td>\n      <td>184</td>\n      <td>제주</td>\n      <td>2020-01-01</td>\n      <td>5.2</td>\n      <td>2.4</td>\n      <td>1</td>\n      <td>7.3</td>\n      <td>1337</td>\n      <td>NaN</td>\n      <td>...</td>\n      <td>12.7</td>\n      <td>13.9</td>\n      <td>13.9</td>\n      <td>18.8</td>\n      <td>20.1</td>\n      <td>1.0</td>\n      <td>1.4</td>\n      <td>NaN</td>\n      <td>NaN</td>\n      <td>NaN</td>\n    </tr>\n    <tr>\n      <th>1</th>\n      <td>0</td>\n      <td>184</td>\n      <td>제주</td>\n      <td>2020-01-02</td>\n      <td>8.1</td>\n      <td>5.5</td>\n      <td>335</td>\n      <td>9.2</td>\n      <td>1502</td>\n      <td>NaN</td>\n      <td>...</td>\n      <td>12.1</td>\n      <td>13.6</td>\n      <td>13.8</td>\n      <td>18.7</td>\n      <td>20.0</td>\n      <td>0.9</td>\n      <td>1.2</td>\n      <td>NaN</td>\n      <td>NaN</td>\n      <td>NaN</td>\n    </tr>\n    <tr>\n      <th>2</th>\n      <td>0</td>\n      <td>184</td>\n      <td>제주</td>\n      <td>2020-01-03</td>\n      <td>8.8</td>\n      <td>6.4</td>\n      <td>2400</td>\n      <td>11.4</td>\n      <td>1043</td>\n      <td>NaN</td>\n      <td>...</td>\n      <td>12.0</td>\n      <td>13.5</td>\n      <td>14.0</td>\n      <td>18.7</td>\n      <td>20.0</td>\n      <td>1.1</td>\n      <td>1.6</td>\n      <td>NaN</td>\n      <td>{연무}1525-{연무}{강도0}1800-1852. {연무}2215-2310. {박...</td>\n      <td>NaN</td>\n    </tr>\n    <tr>\n      <th>3</th>\n      <td>0</td>\n      <td>184</td>\n      <td>제주</td>\n      <td>2020-01-04</td>\n      <td>7.9</td>\n      <td>5.1</td>\n      <td>331</td>\n      <td>11.4</td>\n      <td>1225</td>\n      <td>NaN</td>\n      <td>...</td>\n      <td>11.9</td>\n      <td>13.4</td>\n      <td>13.8</td>\n      <td>18.6</td>\n      <td>20.0</td>\n      <td>1.9</td>\n      <td>2.7</td>\n      <td>NaN</td>\n      <td>-{박무}-0245. {연무}0734-{연무}{강도0}0900-0930. {연무}1...</td>\n      <td>NaN</td>\n    </tr>\n    <tr>\n      <th>4</th>\n      <td>0</td>\n      <td>184</td>\n      <td>제주</td>\n      <td>2020-01-05</td>\n      <td>8.5</td>\n      <td>4.3</td>\n      <td>640</td>\n      <td>11.1</td>\n      <td>1235</td>\n      <td>NaN</td>\n      <td>...</td>\n      <td>11.9</td>\n      <td>13.4</td>\n      <td>13.8</td>\n      <td>18.6</td>\n      <td>20.0</td>\n      <td>1.8</td>\n      <td>2.6</td>\n      <td>0.0</td>\n      <td>{박무}0010-{박무}{강도0}0300-0453. -{연무}-0015. {연무}1...</td>\n      <td>NaN</td>\n    </tr>\n    <tr>\n      <th>...</th>\n      <td>...</td>\n      <td>...</td>\n      <td>...</td>\n      <td>...</td>\n      <td>...</td>\n      <td>...</td>\n      <td>...</td>\n      <td>...</td>\n      <td>...</td>\n      <td>...</td>\n      <td>...</td>\n      <td>...</td>\n      <td>...</td>\n      <td>...</td>\n      <td>...</td>\n      <td>...</td>\n      <td>...</td>\n      <td>...</td>\n      <td>...</td>\n      <td>...</td>\n      <td>...</td>\n    </tr>\n    <tr>\n      <th>737</th>\n      <td>0</td>\n      <td>184</td>\n      <td>제주</td>\n      <td>2022-01-07</td>\n      <td>5.6</td>\n      <td>2.2</td>\n      <td>749</td>\n      <td>10.4</td>\n      <td>1449</td>\n      <td>NaN</td>\n      <td>...</td>\n      <td>9.3</td>\n      <td>11.7</td>\n      <td>12.4</td>\n      <td>17.5</td>\n      <td>19.3</td>\n      <td>1.9</td>\n      <td>2.7</td>\n      <td>NaN</td>\n      <td>NaN</td>\n      <td>NaN</td>\n    </tr>\n    <tr>\n      <th>738</th>\n      <td>0</td>\n      <td>184</td>\n      <td>제주</td>\n      <td>2022-01-08</td>\n      <td>6.6</td>\n      <td>3.5</td>\n      <td>118</td>\n      <td>8.3</td>\n      <td>1250</td>\n      <td>NaN</td>\n      <td>...</td>\n      <td>9.3</td>\n      <td>11.6</td>\n      <td>12.4</td>\n      <td>17.5</td>\n      <td>19.3</td>\n      <td>1.1</td>\n      <td>1.5</td>\n      <td>NaN</td>\n      <td>NaN</td>\n      <td>NaN</td>\n    </tr>\n    <tr>\n      <th>739</th>\n      <td>0</td>\n      <td>184</td>\n      <td>제주</td>\n      <td>2022-01-09</td>\n      <td>7.7</td>\n      <td>5.2</td>\n      <td>246</td>\n      <td>9.6</td>\n      <td>1545</td>\n      <td>NaN</td>\n      <td>...</td>\n      <td>9.3</td>\n      <td>11.5</td>\n      <td>12.3</td>\n      <td>17.4</td>\n      <td>19.3</td>\n      <td>0.8</td>\n      <td>1.2</td>\n      <td>NaN</td>\n      <td>{연무}0645-{연무}{강도0}0900-{연무}{강도0}1200-{연무}{강도0}...</td>\n      <td>NaN</td>\n    </tr>\n    <tr>\n      <th>740</th>\n      <td>0</td>\n      <td>184</td>\n      <td>제주</td>\n      <td>2022-01-10</td>\n      <td>7.6</td>\n      <td>5.5</td>\n      <td>744</td>\n      <td>10.3</td>\n      <td>1237</td>\n      <td>NaN</td>\n      <td>...</td>\n      <td>9.3</td>\n      <td>11.5</td>\n      <td>12.3</td>\n      <td>17.4</td>\n      <td>19.3</td>\n      <td>1.4</td>\n      <td>2.0</td>\n      <td>1.4</td>\n      <td>-{연무}-{연무}{강도0}0300-{연무}{강도0}0600-0705. {비}221...</td>\n      <td>NaN</td>\n    </tr>\n    <tr>\n      <th>741</th>\n      <td>0</td>\n      <td>184</td>\n      <td>제주</td>\n      <td>2022-01-11</td>\n      <td>3.6</td>\n      <td>1.3</td>\n      <td>1254</td>\n      <td>7.7</td>\n      <td>132</td>\n      <td>NaN</td>\n      <td>...</td>\n      <td>9.9</td>\n      <td>11.7</td>\n      <td>11.9</td>\n      <td>15.4</td>\n      <td>18.5</td>\n      <td>NaN</td>\n      <td>NaN</td>\n      <td>NaN</td>\n      <td>-{비}-0033. {비}0129-{비}{강도0}0300-0535. {비}0617-...</td>\n      <td>NaN</td>\n    </tr>\n  </tbody>\n</table>\n<p>742 rows × 63 columns</p>\n</div>"
     },
     "execution_count": 52,
     "metadata": {},
     "output_type": "execute_result"
    }
   ],
   "source": [
    "asos"
   ],
   "metadata": {
    "collapsed": false,
    "pycharm": {
     "name": "#%%\n"
    }
   }
  },
  {
   "cell_type": "code",
   "execution_count": 53,
   "outputs": [],
   "source": [
    "asos.to_csv('asos_최종_최종.csv')"
   ],
   "metadata": {
    "collapsed": false,
    "pycharm": {
     "name": "#%%\n"
    }
   }
  },
  {
   "cell_type": "code",
   "execution_count": 78,
   "outputs": [
    {
     "data": {
      "text/plain": "     영  지점 번호 지점명         시간\"  ('평균 기온',)  ('최저기온',)  ('최저 기온 시각',)  \\\n0    0    184  제주  2020-01-01         5.2        2.4              1   \n1    0    184  제주  2020-01-02         8.1        5.5            335   \n2    0    184  제주  2020-01-03         8.8        6.4           2400   \n3    0    184  제주  2020-01-04         7.9        5.1            331   \n4    0    184  제주  2020-01-05         8.5        4.3            640   \n..  ..    ...  ..         ...         ...        ...            ...   \n737  0    184  제주  2022-01-07         5.6        2.2            749   \n738  0    184  제주  2022-01-08         6.6        3.5            118   \n739  0    184  제주  2022-01-09         7.7        5.2            246   \n740  0    184  제주  2022-01-10         7.6        5.5            744   \n741  0    184  제주  2022-01-11         3.6        1.3           1254   \n\n     ('최고기온',)  ('최고기온 시각',)  ('강수 계속 시간',)  ...  ('0.5m 지중온도',)  \\\n0          7.3          1337            NaN  ...            12.7   \n1          9.2          1502            NaN  ...            12.1   \n2         11.4          1043            NaN  ...            12.0   \n3         11.4          1225            NaN  ...            11.9   \n4         11.1          1235            NaN  ...            11.9   \n..         ...           ...            ...  ...             ...   \n737       10.4          1449            NaN  ...             9.3   \n738        8.3          1250            NaN  ...             9.3   \n739        9.6          1545            NaN  ...             9.3   \n740       10.3          1237            NaN  ...             9.3   \n741        7.7           132            NaN  ...             9.9   \n\n     ('1.0m 지중온도',)  ('1.5m 지중온도',)  ('3.0m 지중온도',)  ('5.0m 지중온도',)  \\\n0              13.9            13.9            18.8            20.1   \n1              13.6            13.8            18.7            20.0   \n2              13.5            14.0            18.7            20.0   \n3              13.4            13.8            18.6            20.0   \n4              13.4            13.8            18.6            20.0   \n..              ...             ...             ...             ...   \n737            11.7            12.4            17.5            19.3   \n738            11.6            12.4            17.5            19.3   \n739            11.5            12.3            17.4            19.3   \n740            11.5            12.3            17.4            19.3   \n741            11.7            11.9            15.4            18.5   \n\n     ('합계 대형증발량',)  ('합계 소형증발량',)  ('9-9강수',)  \\\n0              1.0            1.4         NaN   \n1              0.9            1.2         NaN   \n2              1.1            1.6         NaN   \n3              1.9            2.7         NaN   \n4              1.8            2.6         0.0   \n..             ...            ...         ...   \n737            1.9            2.7         NaN   \n738            1.1            1.5         NaN   \n739            0.8            1.2         NaN   \n740            1.4            2.0         1.4   \n741            NaN            NaN         NaN   \n\n                                             ('일기현상',)  ('안개 계속 시간',)  \n0                                                  NaN            NaN  \n1                                                  NaN            NaN  \n2    {연무}1525-{연무}{강도0}1800-1852. {연무}2215-2310. {박...            NaN  \n3    -{박무}-0245. {연무}0734-{연무}{강도0}0900-0930. {연무}1...            NaN  \n4    {박무}0010-{박무}{강도0}0300-0453. -{연무}-0015. {연무}1...            NaN  \n..                                                 ...            ...  \n737                                                NaN            NaN  \n738                                                NaN            NaN  \n739  {연무}0645-{연무}{강도0}0900-{연무}{강도0}1200-{연무}{강도0}...            NaN  \n740  -{연무}-{연무}{강도0}0300-{연무}{강도0}0600-0705. {비}221...            NaN  \n741  -{비}-0033. {비}0129-{비}{강도0}0300-0535. {비}0617-...            NaN  \n\n[742 rows x 63 columns]",
      "text/html": "<div>\n<style scoped>\n    .dataframe tbody tr th:only-of-type {\n        vertical-align: middle;\n    }\n\n    .dataframe tbody tr th {\n        vertical-align: top;\n    }\n\n    .dataframe thead th {\n        text-align: right;\n    }\n</style>\n<table border=\"1\" class=\"dataframe\">\n  <thead>\n    <tr style=\"text-align: right;\">\n      <th></th>\n      <th>영</th>\n      <th>지점 번호</th>\n      <th>지점명</th>\n      <th>시간\"</th>\n      <th>('평균 기온',)</th>\n      <th>('최저기온',)</th>\n      <th>('최저 기온 시각',)</th>\n      <th>('최고기온',)</th>\n      <th>('최고기온 시각',)</th>\n      <th>('강수 계속 시간',)</th>\n      <th>...</th>\n      <th>('0.5m 지중온도',)</th>\n      <th>('1.0m 지중온도',)</th>\n      <th>('1.5m 지중온도',)</th>\n      <th>('3.0m 지중온도',)</th>\n      <th>('5.0m 지중온도',)</th>\n      <th>('합계 대형증발량',)</th>\n      <th>('합계 소형증발량',)</th>\n      <th>('9-9강수',)</th>\n      <th>('일기현상',)</th>\n      <th>('안개 계속 시간',)</th>\n    </tr>\n  </thead>\n  <tbody>\n    <tr>\n      <th>0</th>\n      <td>0</td>\n      <td>184</td>\n      <td>제주</td>\n      <td>2020-01-01</td>\n      <td>5.2</td>\n      <td>2.4</td>\n      <td>1</td>\n      <td>7.3</td>\n      <td>1337</td>\n      <td>NaN</td>\n      <td>...</td>\n      <td>12.7</td>\n      <td>13.9</td>\n      <td>13.9</td>\n      <td>18.8</td>\n      <td>20.1</td>\n      <td>1.0</td>\n      <td>1.4</td>\n      <td>NaN</td>\n      <td>NaN</td>\n      <td>NaN</td>\n    </tr>\n    <tr>\n      <th>1</th>\n      <td>0</td>\n      <td>184</td>\n      <td>제주</td>\n      <td>2020-01-02</td>\n      <td>8.1</td>\n      <td>5.5</td>\n      <td>335</td>\n      <td>9.2</td>\n      <td>1502</td>\n      <td>NaN</td>\n      <td>...</td>\n      <td>12.1</td>\n      <td>13.6</td>\n      <td>13.8</td>\n      <td>18.7</td>\n      <td>20.0</td>\n      <td>0.9</td>\n      <td>1.2</td>\n      <td>NaN</td>\n      <td>NaN</td>\n      <td>NaN</td>\n    </tr>\n    <tr>\n      <th>2</th>\n      <td>0</td>\n      <td>184</td>\n      <td>제주</td>\n      <td>2020-01-03</td>\n      <td>8.8</td>\n      <td>6.4</td>\n      <td>2400</td>\n      <td>11.4</td>\n      <td>1043</td>\n      <td>NaN</td>\n      <td>...</td>\n      <td>12.0</td>\n      <td>13.5</td>\n      <td>14.0</td>\n      <td>18.7</td>\n      <td>20.0</td>\n      <td>1.1</td>\n      <td>1.6</td>\n      <td>NaN</td>\n      <td>{연무}1525-{연무}{강도0}1800-1852. {연무}2215-2310. {박...</td>\n      <td>NaN</td>\n    </tr>\n    <tr>\n      <th>3</th>\n      <td>0</td>\n      <td>184</td>\n      <td>제주</td>\n      <td>2020-01-04</td>\n      <td>7.9</td>\n      <td>5.1</td>\n      <td>331</td>\n      <td>11.4</td>\n      <td>1225</td>\n      <td>NaN</td>\n      <td>...</td>\n      <td>11.9</td>\n      <td>13.4</td>\n      <td>13.8</td>\n      <td>18.6</td>\n      <td>20.0</td>\n      <td>1.9</td>\n      <td>2.7</td>\n      <td>NaN</td>\n      <td>-{박무}-0245. {연무}0734-{연무}{강도0}0900-0930. {연무}1...</td>\n      <td>NaN</td>\n    </tr>\n    <tr>\n      <th>4</th>\n      <td>0</td>\n      <td>184</td>\n      <td>제주</td>\n      <td>2020-01-05</td>\n      <td>8.5</td>\n      <td>4.3</td>\n      <td>640</td>\n      <td>11.1</td>\n      <td>1235</td>\n      <td>NaN</td>\n      <td>...</td>\n      <td>11.9</td>\n      <td>13.4</td>\n      <td>13.8</td>\n      <td>18.6</td>\n      <td>20.0</td>\n      <td>1.8</td>\n      <td>2.6</td>\n      <td>0.0</td>\n      <td>{박무}0010-{박무}{강도0}0300-0453. -{연무}-0015. {연무}1...</td>\n      <td>NaN</td>\n    </tr>\n    <tr>\n      <th>...</th>\n      <td>...</td>\n      <td>...</td>\n      <td>...</td>\n      <td>...</td>\n      <td>...</td>\n      <td>...</td>\n      <td>...</td>\n      <td>...</td>\n      <td>...</td>\n      <td>...</td>\n      <td>...</td>\n      <td>...</td>\n      <td>...</td>\n      <td>...</td>\n      <td>...</td>\n      <td>...</td>\n      <td>...</td>\n      <td>...</td>\n      <td>...</td>\n      <td>...</td>\n      <td>...</td>\n    </tr>\n    <tr>\n      <th>737</th>\n      <td>0</td>\n      <td>184</td>\n      <td>제주</td>\n      <td>2022-01-07</td>\n      <td>5.6</td>\n      <td>2.2</td>\n      <td>749</td>\n      <td>10.4</td>\n      <td>1449</td>\n      <td>NaN</td>\n      <td>...</td>\n      <td>9.3</td>\n      <td>11.7</td>\n      <td>12.4</td>\n      <td>17.5</td>\n      <td>19.3</td>\n      <td>1.9</td>\n      <td>2.7</td>\n      <td>NaN</td>\n      <td>NaN</td>\n      <td>NaN</td>\n    </tr>\n    <tr>\n      <th>738</th>\n      <td>0</td>\n      <td>184</td>\n      <td>제주</td>\n      <td>2022-01-08</td>\n      <td>6.6</td>\n      <td>3.5</td>\n      <td>118</td>\n      <td>8.3</td>\n      <td>1250</td>\n      <td>NaN</td>\n      <td>...</td>\n      <td>9.3</td>\n      <td>11.6</td>\n      <td>12.4</td>\n      <td>17.5</td>\n      <td>19.3</td>\n      <td>1.1</td>\n      <td>1.5</td>\n      <td>NaN</td>\n      <td>NaN</td>\n      <td>NaN</td>\n    </tr>\n    <tr>\n      <th>739</th>\n      <td>0</td>\n      <td>184</td>\n      <td>제주</td>\n      <td>2022-01-09</td>\n      <td>7.7</td>\n      <td>5.2</td>\n      <td>246</td>\n      <td>9.6</td>\n      <td>1545</td>\n      <td>NaN</td>\n      <td>...</td>\n      <td>9.3</td>\n      <td>11.5</td>\n      <td>12.3</td>\n      <td>17.4</td>\n      <td>19.3</td>\n      <td>0.8</td>\n      <td>1.2</td>\n      <td>NaN</td>\n      <td>{연무}0645-{연무}{강도0}0900-{연무}{강도0}1200-{연무}{강도0}...</td>\n      <td>NaN</td>\n    </tr>\n    <tr>\n      <th>740</th>\n      <td>0</td>\n      <td>184</td>\n      <td>제주</td>\n      <td>2022-01-10</td>\n      <td>7.6</td>\n      <td>5.5</td>\n      <td>744</td>\n      <td>10.3</td>\n      <td>1237</td>\n      <td>NaN</td>\n      <td>...</td>\n      <td>9.3</td>\n      <td>11.5</td>\n      <td>12.3</td>\n      <td>17.4</td>\n      <td>19.3</td>\n      <td>1.4</td>\n      <td>2.0</td>\n      <td>1.4</td>\n      <td>-{연무}-{연무}{강도0}0300-{연무}{강도0}0600-0705. {비}221...</td>\n      <td>NaN</td>\n    </tr>\n    <tr>\n      <th>741</th>\n      <td>0</td>\n      <td>184</td>\n      <td>제주</td>\n      <td>2022-01-11</td>\n      <td>3.6</td>\n      <td>1.3</td>\n      <td>1254</td>\n      <td>7.7</td>\n      <td>132</td>\n      <td>NaN</td>\n      <td>...</td>\n      <td>9.9</td>\n      <td>11.7</td>\n      <td>11.9</td>\n      <td>15.4</td>\n      <td>18.5</td>\n      <td>NaN</td>\n      <td>NaN</td>\n      <td>NaN</td>\n      <td>-{비}-0033. {비}0129-{비}{강도0}0300-0535. {비}0617-...</td>\n      <td>NaN</td>\n    </tr>\n  </tbody>\n</table>\n<p>742 rows × 63 columns</p>\n</div>"
     },
     "execution_count": 78,
     "metadata": {},
     "output_type": "execute_result"
    }
   ],
   "source": [
    "asos2 = pd.read_csv('asos_최종_최종.csv')\n",
    "asos2"
   ],
   "metadata": {
    "collapsed": false,
    "pycharm": {
     "name": "#%%\n"
    }
   }
  },
  {
   "cell_type": "code",
   "execution_count": 79,
   "outputs": [
    {
     "data": {
      "text/plain": "Index(['영', '지점 번호', '지점명', '시간\"', '('평균 기온',)', '('최저기온',)', '('최저 기온 시각',)',\n       '('최고기온',)', '('최고기온 시각',)', '('강수 계속 시간',)', '('10분 최다 강수량',)',\n       '('10분 최다 강수량 시각',)', '('1시간 최다 강수량',)', '('1시간 최다 강수량 시각',)',\n       '('일강수량',)', '('최대 순간 풍속',)', '('최대 순간 풍속 풍향',)', '('최대 순간 풍속 시각',)',\n       '('최대 풍속',)', '('최대 풍속 풍향',)', '('최대 풍속 시각',)', '('평균 풍속',)',\n       '('풍정합',)', '('최대풍향',)', '('평균 이슬점 온도',)', '('최소 상대 습도',)',\n       '('평균 상대습도 시각',)', '('푱균 상대습도',)', '('평균 증기압',)', '('평균 현지 기압',)',\n       '('최고 해면 기압',)', '('최고 해면 기압 시각',)', '('최저 해면 기압',)',\n       '('최저 해면 기압 시각',)', '('평균 해면 기압',)', '('가조시간',)', '('합계 일조 시간',)',\n       '('1시간 최다 일사 시각',)', '('1시간 최다 일사량',)', '('합계 일사량',)', '('일 최심신적설',)',\n       '('일 최심신적설 시각',)', '('일 최심적설',)', '('일 최심적설 시각',)', '('합계3시간 신적설',)',\n       '('평균 전운량',)', '('평균 증하운량',)', '('평균 지면온도',)', '('최저 초상온도',)',\n       '('평균 5cm 지중온도',)', '('평균 10cm 지중온도',)', '('평균 20cm 지중온도',)',\n       '('평균 30cm 지중온도',)', '('0.5m 지중온도',)', '('1.0m 지중온도',)',\n       '('1.5m 지중온도',)', '('3.0m 지중온도',)', '('5.0m 지중온도',)', '('합계 대형증발량',)',\n       '('합계 소형증발량',)', '('9-9강수',)', '('일기현상',)', '('안개 계속 시간',)'],\n      dtype='object')"
     },
     "execution_count": 79,
     "metadata": {},
     "output_type": "execute_result"
    }
   ],
   "source": [
    "asos2.columns"
   ],
   "metadata": {
    "collapsed": false,
    "pycharm": {
     "name": "#%%\n"
    }
   }
  },
  {
   "cell_type": "code",
   "execution_count": 82,
   "outputs": [
    {
     "data": {
      "text/plain": "Index(['영', '지점번호', '지점명', '시간', '평균기온', '최저기온', '최저기온시각', '최고기온', '최고기온시각',\n       '강수계속시간', '10분최다강수량', '10분최다강수량시각', '1시간최다강수량', '1시간최다강수량시각', '일강수량',\n       '최대순간풍속', '최대순간풍속풍향', '최대순간풍속시각', '최대풍속', '최대풍속풍향', '최대풍속시각', '평균풍속',\n       '풍정합', '최대풍향', '평균이슬점온도', '최소상대습도', '평균상대습도시각', '푱균상대습도', '평균증기압',\n       '평균현지기압', '최고해면기압', '최고해면기압시각', '최저해면기압', '최저해면기압시각', '평균해면기압', '가조시간',\n       '합계일조시간', '1시간최다일사시각', '1시간최다일사량', '합계일사량', '일최심신적설', '일최심신적설시각',\n       '일최심적설', '일최심적설시각', '합계3시간신적설', '평균전운량', '평균증하운량', '평균지면온도', '최저초상온도',\n       '평균5cm지중온도', '평균10cm지중온도', '평균20cm지중온도', '평균30cm지중온도', '05m지중온도',\n       '10m지중온도', '15m지중온도', '30m지중온도', '50m지중온도', '합계대형증발량', '합계소형증발량',\n       '99강수', '일기현상', '안개계속시간'],\n      dtype='object')"
     },
     "execution_count": 82,
     "metadata": {},
     "output_type": "execute_result"
    }
   ],
   "source": [
    "asoscol = asos2.columns.str.replace(pat=r'[^\\w]', repl=r'', regex=True)\n",
    "asoscol"
   ],
   "metadata": {
    "collapsed": false,
    "pycharm": {
     "name": "#%%\n"
    }
   }
  },
  {
   "cell_type": "code",
   "execution_count": 83,
   "outputs": [],
   "source": [
    "asos2.columns = asoscol"
   ],
   "metadata": {
    "collapsed": false,
    "pycharm": {
     "name": "#%%\n"
    }
   }
  },
  {
   "cell_type": "code",
   "execution_count": 77,
   "outputs": [
    {
     "data": {
      "text/plain": "     Unnamed0  영  지점번호 지점명          시간  평균기온  최저기온  최저기온시각  최고기온  최고기온시각  ...  \\\n0           0  0   184  제주  2020-01-01   5.2   2.4       1   7.3    1337  ...   \n1           1  0   184  제주  2020-01-02   8.1   5.5     335   9.2    1502  ...   \n2           2  0   184  제주  2020-01-03   8.8   6.4    2400  11.4    1043  ...   \n3           3  0   184  제주  2020-01-04   7.9   5.1     331  11.4    1225  ...   \n4           4  0   184  제주  2020-01-05   8.5   4.3     640  11.1    1235  ...   \n..        ... ..   ...  ..         ...   ...   ...     ...   ...     ...  ...   \n737       737  0   184  제주  2022-01-07   5.6   2.2     749  10.4    1449  ...   \n738       738  0   184  제주  2022-01-08   6.6   3.5     118   8.3    1250  ...   \n739       739  0   184  제주  2022-01-09   7.7   5.2     246   9.6    1545  ...   \n740       740  0   184  제주  2022-01-10   7.6   5.5     744  10.3    1237  ...   \n741       741  0   184  제주  2022-01-11   3.6   1.3    1254   7.7     132  ...   \n\n     05m지중온도  10m지중온도  15m지중온도  30m지중온도  50m지중온도  합계대형증발량  합계소형증발량  99강수  \\\n0       12.7     13.9     13.9     18.8     20.1      1.0      1.4   NaN   \n1       12.1     13.6     13.8     18.7     20.0      0.9      1.2   NaN   \n2       12.0     13.5     14.0     18.7     20.0      1.1      1.6   NaN   \n3       11.9     13.4     13.8     18.6     20.0      1.9      2.7   NaN   \n4       11.9     13.4     13.8     18.6     20.0      1.8      2.6   0.0   \n..       ...      ...      ...      ...      ...      ...      ...   ...   \n737      9.3     11.7     12.4     17.5     19.3      1.9      2.7   NaN   \n738      9.3     11.6     12.4     17.5     19.3      1.1      1.5   NaN   \n739      9.3     11.5     12.3     17.4     19.3      0.8      1.2   NaN   \n740      9.3     11.5     12.3     17.4     19.3      1.4      2.0   1.4   \n741      9.9     11.7     11.9     15.4     18.5      NaN      NaN   NaN   \n\n                                                  일기현상  안개계속시간  \n0                                                  NaN     NaN  \n1                                                  NaN     NaN  \n2    {연무}1525-{연무}{강도0}1800-1852. {연무}2215-2310. {박...     NaN  \n3    -{박무}-0245. {연무}0734-{연무}{강도0}0900-0930. {연무}1...     NaN  \n4    {박무}0010-{박무}{강도0}0300-0453. -{연무}-0015. {연무}1...     NaN  \n..                                                 ...     ...  \n737                                                NaN     NaN  \n738                                                NaN     NaN  \n739  {연무}0645-{연무}{강도0}0900-{연무}{강도0}1200-{연무}{강도0}...     NaN  \n740  -{연무}-{연무}{강도0}0300-{연무}{강도0}0600-0705. {비}221...     NaN  \n741  -{비}-0033. {비}0129-{비}{강도0}0300-0535. {비}0617-...     NaN  \n\n[742 rows x 64 columns]",
      "text/html": "<div>\n<style scoped>\n    .dataframe tbody tr th:only-of-type {\n        vertical-align: middle;\n    }\n\n    .dataframe tbody tr th {\n        vertical-align: top;\n    }\n\n    .dataframe thead th {\n        text-align: right;\n    }\n</style>\n<table border=\"1\" class=\"dataframe\">\n  <thead>\n    <tr style=\"text-align: right;\">\n      <th></th>\n      <th>Unnamed0</th>\n      <th>영</th>\n      <th>지점번호</th>\n      <th>지점명</th>\n      <th>시간</th>\n      <th>평균기온</th>\n      <th>최저기온</th>\n      <th>최저기온시각</th>\n      <th>최고기온</th>\n      <th>최고기온시각</th>\n      <th>...</th>\n      <th>05m지중온도</th>\n      <th>10m지중온도</th>\n      <th>15m지중온도</th>\n      <th>30m지중온도</th>\n      <th>50m지중온도</th>\n      <th>합계대형증발량</th>\n      <th>합계소형증발량</th>\n      <th>99강수</th>\n      <th>일기현상</th>\n      <th>안개계속시간</th>\n    </tr>\n  </thead>\n  <tbody>\n    <tr>\n      <th>0</th>\n      <td>0</td>\n      <td>0</td>\n      <td>184</td>\n      <td>제주</td>\n      <td>2020-01-01</td>\n      <td>5.2</td>\n      <td>2.4</td>\n      <td>1</td>\n      <td>7.3</td>\n      <td>1337</td>\n      <td>...</td>\n      <td>12.7</td>\n      <td>13.9</td>\n      <td>13.9</td>\n      <td>18.8</td>\n      <td>20.1</td>\n      <td>1.0</td>\n      <td>1.4</td>\n      <td>NaN</td>\n      <td>NaN</td>\n      <td>NaN</td>\n    </tr>\n    <tr>\n      <th>1</th>\n      <td>1</td>\n      <td>0</td>\n      <td>184</td>\n      <td>제주</td>\n      <td>2020-01-02</td>\n      <td>8.1</td>\n      <td>5.5</td>\n      <td>335</td>\n      <td>9.2</td>\n      <td>1502</td>\n      <td>...</td>\n      <td>12.1</td>\n      <td>13.6</td>\n      <td>13.8</td>\n      <td>18.7</td>\n      <td>20.0</td>\n      <td>0.9</td>\n      <td>1.2</td>\n      <td>NaN</td>\n      <td>NaN</td>\n      <td>NaN</td>\n    </tr>\n    <tr>\n      <th>2</th>\n      <td>2</td>\n      <td>0</td>\n      <td>184</td>\n      <td>제주</td>\n      <td>2020-01-03</td>\n      <td>8.8</td>\n      <td>6.4</td>\n      <td>2400</td>\n      <td>11.4</td>\n      <td>1043</td>\n      <td>...</td>\n      <td>12.0</td>\n      <td>13.5</td>\n      <td>14.0</td>\n      <td>18.7</td>\n      <td>20.0</td>\n      <td>1.1</td>\n      <td>1.6</td>\n      <td>NaN</td>\n      <td>{연무}1525-{연무}{강도0}1800-1852. {연무}2215-2310. {박...</td>\n      <td>NaN</td>\n    </tr>\n    <tr>\n      <th>3</th>\n      <td>3</td>\n      <td>0</td>\n      <td>184</td>\n      <td>제주</td>\n      <td>2020-01-04</td>\n      <td>7.9</td>\n      <td>5.1</td>\n      <td>331</td>\n      <td>11.4</td>\n      <td>1225</td>\n      <td>...</td>\n      <td>11.9</td>\n      <td>13.4</td>\n      <td>13.8</td>\n      <td>18.6</td>\n      <td>20.0</td>\n      <td>1.9</td>\n      <td>2.7</td>\n      <td>NaN</td>\n      <td>-{박무}-0245. {연무}0734-{연무}{강도0}0900-0930. {연무}1...</td>\n      <td>NaN</td>\n    </tr>\n    <tr>\n      <th>4</th>\n      <td>4</td>\n      <td>0</td>\n      <td>184</td>\n      <td>제주</td>\n      <td>2020-01-05</td>\n      <td>8.5</td>\n      <td>4.3</td>\n      <td>640</td>\n      <td>11.1</td>\n      <td>1235</td>\n      <td>...</td>\n      <td>11.9</td>\n      <td>13.4</td>\n      <td>13.8</td>\n      <td>18.6</td>\n      <td>20.0</td>\n      <td>1.8</td>\n      <td>2.6</td>\n      <td>0.0</td>\n      <td>{박무}0010-{박무}{강도0}0300-0453. -{연무}-0015. {연무}1...</td>\n      <td>NaN</td>\n    </tr>\n    <tr>\n      <th>...</th>\n      <td>...</td>\n      <td>...</td>\n      <td>...</td>\n      <td>...</td>\n      <td>...</td>\n      <td>...</td>\n      <td>...</td>\n      <td>...</td>\n      <td>...</td>\n      <td>...</td>\n      <td>...</td>\n      <td>...</td>\n      <td>...</td>\n      <td>...</td>\n      <td>...</td>\n      <td>...</td>\n      <td>...</td>\n      <td>...</td>\n      <td>...</td>\n      <td>...</td>\n      <td>...</td>\n    </tr>\n    <tr>\n      <th>737</th>\n      <td>737</td>\n      <td>0</td>\n      <td>184</td>\n      <td>제주</td>\n      <td>2022-01-07</td>\n      <td>5.6</td>\n      <td>2.2</td>\n      <td>749</td>\n      <td>10.4</td>\n      <td>1449</td>\n      <td>...</td>\n      <td>9.3</td>\n      <td>11.7</td>\n      <td>12.4</td>\n      <td>17.5</td>\n      <td>19.3</td>\n      <td>1.9</td>\n      <td>2.7</td>\n      <td>NaN</td>\n      <td>NaN</td>\n      <td>NaN</td>\n    </tr>\n    <tr>\n      <th>738</th>\n      <td>738</td>\n      <td>0</td>\n      <td>184</td>\n      <td>제주</td>\n      <td>2022-01-08</td>\n      <td>6.6</td>\n      <td>3.5</td>\n      <td>118</td>\n      <td>8.3</td>\n      <td>1250</td>\n      <td>...</td>\n      <td>9.3</td>\n      <td>11.6</td>\n      <td>12.4</td>\n      <td>17.5</td>\n      <td>19.3</td>\n      <td>1.1</td>\n      <td>1.5</td>\n      <td>NaN</td>\n      <td>NaN</td>\n      <td>NaN</td>\n    </tr>\n    <tr>\n      <th>739</th>\n      <td>739</td>\n      <td>0</td>\n      <td>184</td>\n      <td>제주</td>\n      <td>2022-01-09</td>\n      <td>7.7</td>\n      <td>5.2</td>\n      <td>246</td>\n      <td>9.6</td>\n      <td>1545</td>\n      <td>...</td>\n      <td>9.3</td>\n      <td>11.5</td>\n      <td>12.3</td>\n      <td>17.4</td>\n      <td>19.3</td>\n      <td>0.8</td>\n      <td>1.2</td>\n      <td>NaN</td>\n      <td>{연무}0645-{연무}{강도0}0900-{연무}{강도0}1200-{연무}{강도0}...</td>\n      <td>NaN</td>\n    </tr>\n    <tr>\n      <th>740</th>\n      <td>740</td>\n      <td>0</td>\n      <td>184</td>\n      <td>제주</td>\n      <td>2022-01-10</td>\n      <td>7.6</td>\n      <td>5.5</td>\n      <td>744</td>\n      <td>10.3</td>\n      <td>1237</td>\n      <td>...</td>\n      <td>9.3</td>\n      <td>11.5</td>\n      <td>12.3</td>\n      <td>17.4</td>\n      <td>19.3</td>\n      <td>1.4</td>\n      <td>2.0</td>\n      <td>1.4</td>\n      <td>-{연무}-{연무}{강도0}0300-{연무}{강도0}0600-0705. {비}221...</td>\n      <td>NaN</td>\n    </tr>\n    <tr>\n      <th>741</th>\n      <td>741</td>\n      <td>0</td>\n      <td>184</td>\n      <td>제주</td>\n      <td>2022-01-11</td>\n      <td>3.6</td>\n      <td>1.3</td>\n      <td>1254</td>\n      <td>7.7</td>\n      <td>132</td>\n      <td>...</td>\n      <td>9.9</td>\n      <td>11.7</td>\n      <td>11.9</td>\n      <td>15.4</td>\n      <td>18.5</td>\n      <td>NaN</td>\n      <td>NaN</td>\n      <td>NaN</td>\n      <td>-{비}-0033. {비}0129-{비}{강도0}0300-0535. {비}0617-...</td>\n      <td>NaN</td>\n    </tr>\n  </tbody>\n</table>\n<p>742 rows × 64 columns</p>\n</div>"
     },
     "execution_count": 77,
     "metadata": {},
     "output_type": "execute_result"
    }
   ],
   "source": [
    "asos2"
   ],
   "metadata": {
    "collapsed": false,
    "pycharm": {
     "name": "#%%\n"
    }
   }
  },
  {
   "cell_type": "code",
   "execution_count": 84,
   "outputs": [],
   "source": [
    "asos2.to_csv('asos_최종_최종_최종.csv')"
   ],
   "metadata": {
    "collapsed": false,
    "pycharm": {
     "name": "#%%\n"
    }
   }
  },
  {
   "cell_type": "code",
   "execution_count": 85,
   "outputs": [
    {
     "data": {
      "text/plain": "     Unnamed: 0  영  지점번호 지점명          시간  평균기온  최저기온  최저기온시각  최고기온  최고기온시각  \\\n0             0  0   184  제주  2020-01-01   5.2   2.4       1   7.3    1337   \n1             1  0   184  제주  2020-01-02   8.1   5.5     335   9.2    1502   \n2             2  0   184  제주  2020-01-03   8.8   6.4    2400  11.4    1043   \n3             3  0   184  제주  2020-01-04   7.9   5.1     331  11.4    1225   \n4             4  0   184  제주  2020-01-05   8.5   4.3     640  11.1    1235   \n..          ... ..   ...  ..         ...   ...   ...     ...   ...     ...   \n737         737  0   184  제주  2022-01-07   5.6   2.2     749  10.4    1449   \n738         738  0   184  제주  2022-01-08   6.6   3.5     118   8.3    1250   \n739         739  0   184  제주  2022-01-09   7.7   5.2     246   9.6    1545   \n740         740  0   184  제주  2022-01-10   7.6   5.5     744  10.3    1237   \n741         741  0   184  제주  2022-01-11   3.6   1.3    1254   7.7     132   \n\n     ...  0.5m지중온도  1.0m지중온도  1.5m지중온도  3.0m지중온도  5.0m지중온도  합계대형증발량  합계소형증발량  \\\n0    ...      12.7      13.9      13.9      18.8      20.1      1.0      1.4   \n1    ...      12.1      13.6      13.8      18.7      20.0      0.9      1.2   \n2    ...      12.0      13.5      14.0      18.7      20.0      1.1      1.6   \n3    ...      11.9      13.4      13.8      18.6      20.0      1.9      2.7   \n4    ...      11.9      13.4      13.8      18.6      20.0      1.8      2.6   \n..   ...       ...       ...       ...       ...       ...      ...      ...   \n737  ...       9.3      11.7      12.4      17.5      19.3      1.9      2.7   \n738  ...       9.3      11.6      12.4      17.5      19.3      1.1      1.5   \n739  ...       9.3      11.5      12.3      17.4      19.3      0.8      1.2   \n740  ...       9.3      11.5      12.3      17.4      19.3      1.4      2.0   \n741  ...       9.9      11.7      11.9      15.4      18.5      NaN      NaN   \n\n     9-9강수                                               일기현상  안개계속시간  \n0      NaN                                                NaN     NaN  \n1      NaN                                                NaN     NaN  \n2      NaN  {연무}1525-{연무}{강도0}1800-1852. {연무}2215-2310. {박...     NaN  \n3      NaN  -{박무}-0245. {연무}0734-{연무}{강도0}0900-0930. {연무}1...     NaN  \n4      0.0  {박무}0010-{박무}{강도0}0300-0453. -{연무}-0015. {연무}1...     NaN  \n..     ...                                                ...     ...  \n737    NaN                                                NaN     NaN  \n738    NaN                                                NaN     NaN  \n739    NaN  {연무}0645-{연무}{강도0}0900-{연무}{강도0}1200-{연무}{강도0}...     NaN  \n740    1.4  -{연무}-{연무}{강도0}0300-{연무}{강도0}0600-0705. {비}221...     NaN  \n741    NaN  -{비}-0033. {비}0129-{비}{강도0}0300-0535. {비}0617-...     NaN  \n\n[742 rows x 64 columns]",
      "text/html": "<div>\n<style scoped>\n    .dataframe tbody tr th:only-of-type {\n        vertical-align: middle;\n    }\n\n    .dataframe tbody tr th {\n        vertical-align: top;\n    }\n\n    .dataframe thead th {\n        text-align: right;\n    }\n</style>\n<table border=\"1\" class=\"dataframe\">\n  <thead>\n    <tr style=\"text-align: right;\">\n      <th></th>\n      <th>Unnamed: 0</th>\n      <th>영</th>\n      <th>지점번호</th>\n      <th>지점명</th>\n      <th>시간</th>\n      <th>평균기온</th>\n      <th>최저기온</th>\n      <th>최저기온시각</th>\n      <th>최고기온</th>\n      <th>최고기온시각</th>\n      <th>...</th>\n      <th>0.5m지중온도</th>\n      <th>1.0m지중온도</th>\n      <th>1.5m지중온도</th>\n      <th>3.0m지중온도</th>\n      <th>5.0m지중온도</th>\n      <th>합계대형증발량</th>\n      <th>합계소형증발량</th>\n      <th>9-9강수</th>\n      <th>일기현상</th>\n      <th>안개계속시간</th>\n    </tr>\n  </thead>\n  <tbody>\n    <tr>\n      <th>0</th>\n      <td>0</td>\n      <td>0</td>\n      <td>184</td>\n      <td>제주</td>\n      <td>2020-01-01</td>\n      <td>5.2</td>\n      <td>2.4</td>\n      <td>1</td>\n      <td>7.3</td>\n      <td>1337</td>\n      <td>...</td>\n      <td>12.7</td>\n      <td>13.9</td>\n      <td>13.9</td>\n      <td>18.8</td>\n      <td>20.1</td>\n      <td>1.0</td>\n      <td>1.4</td>\n      <td>NaN</td>\n      <td>NaN</td>\n      <td>NaN</td>\n    </tr>\n    <tr>\n      <th>1</th>\n      <td>1</td>\n      <td>0</td>\n      <td>184</td>\n      <td>제주</td>\n      <td>2020-01-02</td>\n      <td>8.1</td>\n      <td>5.5</td>\n      <td>335</td>\n      <td>9.2</td>\n      <td>1502</td>\n      <td>...</td>\n      <td>12.1</td>\n      <td>13.6</td>\n      <td>13.8</td>\n      <td>18.7</td>\n      <td>20.0</td>\n      <td>0.9</td>\n      <td>1.2</td>\n      <td>NaN</td>\n      <td>NaN</td>\n      <td>NaN</td>\n    </tr>\n    <tr>\n      <th>2</th>\n      <td>2</td>\n      <td>0</td>\n      <td>184</td>\n      <td>제주</td>\n      <td>2020-01-03</td>\n      <td>8.8</td>\n      <td>6.4</td>\n      <td>2400</td>\n      <td>11.4</td>\n      <td>1043</td>\n      <td>...</td>\n      <td>12.0</td>\n      <td>13.5</td>\n      <td>14.0</td>\n      <td>18.7</td>\n      <td>20.0</td>\n      <td>1.1</td>\n      <td>1.6</td>\n      <td>NaN</td>\n      <td>{연무}1525-{연무}{강도0}1800-1852. {연무}2215-2310. {박...</td>\n      <td>NaN</td>\n    </tr>\n    <tr>\n      <th>3</th>\n      <td>3</td>\n      <td>0</td>\n      <td>184</td>\n      <td>제주</td>\n      <td>2020-01-04</td>\n      <td>7.9</td>\n      <td>5.1</td>\n      <td>331</td>\n      <td>11.4</td>\n      <td>1225</td>\n      <td>...</td>\n      <td>11.9</td>\n      <td>13.4</td>\n      <td>13.8</td>\n      <td>18.6</td>\n      <td>20.0</td>\n      <td>1.9</td>\n      <td>2.7</td>\n      <td>NaN</td>\n      <td>-{박무}-0245. {연무}0734-{연무}{강도0}0900-0930. {연무}1...</td>\n      <td>NaN</td>\n    </tr>\n    <tr>\n      <th>4</th>\n      <td>4</td>\n      <td>0</td>\n      <td>184</td>\n      <td>제주</td>\n      <td>2020-01-05</td>\n      <td>8.5</td>\n      <td>4.3</td>\n      <td>640</td>\n      <td>11.1</td>\n      <td>1235</td>\n      <td>...</td>\n      <td>11.9</td>\n      <td>13.4</td>\n      <td>13.8</td>\n      <td>18.6</td>\n      <td>20.0</td>\n      <td>1.8</td>\n      <td>2.6</td>\n      <td>0.0</td>\n      <td>{박무}0010-{박무}{강도0}0300-0453. -{연무}-0015. {연무}1...</td>\n      <td>NaN</td>\n    </tr>\n    <tr>\n      <th>...</th>\n      <td>...</td>\n      <td>...</td>\n      <td>...</td>\n      <td>...</td>\n      <td>...</td>\n      <td>...</td>\n      <td>...</td>\n      <td>...</td>\n      <td>...</td>\n      <td>...</td>\n      <td>...</td>\n      <td>...</td>\n      <td>...</td>\n      <td>...</td>\n      <td>...</td>\n      <td>...</td>\n      <td>...</td>\n      <td>...</td>\n      <td>...</td>\n      <td>...</td>\n      <td>...</td>\n    </tr>\n    <tr>\n      <th>737</th>\n      <td>737</td>\n      <td>0</td>\n      <td>184</td>\n      <td>제주</td>\n      <td>2022-01-07</td>\n      <td>5.6</td>\n      <td>2.2</td>\n      <td>749</td>\n      <td>10.4</td>\n      <td>1449</td>\n      <td>...</td>\n      <td>9.3</td>\n      <td>11.7</td>\n      <td>12.4</td>\n      <td>17.5</td>\n      <td>19.3</td>\n      <td>1.9</td>\n      <td>2.7</td>\n      <td>NaN</td>\n      <td>NaN</td>\n      <td>NaN</td>\n    </tr>\n    <tr>\n      <th>738</th>\n      <td>738</td>\n      <td>0</td>\n      <td>184</td>\n      <td>제주</td>\n      <td>2022-01-08</td>\n      <td>6.6</td>\n      <td>3.5</td>\n      <td>118</td>\n      <td>8.3</td>\n      <td>1250</td>\n      <td>...</td>\n      <td>9.3</td>\n      <td>11.6</td>\n      <td>12.4</td>\n      <td>17.5</td>\n      <td>19.3</td>\n      <td>1.1</td>\n      <td>1.5</td>\n      <td>NaN</td>\n      <td>NaN</td>\n      <td>NaN</td>\n    </tr>\n    <tr>\n      <th>739</th>\n      <td>739</td>\n      <td>0</td>\n      <td>184</td>\n      <td>제주</td>\n      <td>2022-01-09</td>\n      <td>7.7</td>\n      <td>5.2</td>\n      <td>246</td>\n      <td>9.6</td>\n      <td>1545</td>\n      <td>...</td>\n      <td>9.3</td>\n      <td>11.5</td>\n      <td>12.3</td>\n      <td>17.4</td>\n      <td>19.3</td>\n      <td>0.8</td>\n      <td>1.2</td>\n      <td>NaN</td>\n      <td>{연무}0645-{연무}{강도0}0900-{연무}{강도0}1200-{연무}{강도0}...</td>\n      <td>NaN</td>\n    </tr>\n    <tr>\n      <th>740</th>\n      <td>740</td>\n      <td>0</td>\n      <td>184</td>\n      <td>제주</td>\n      <td>2022-01-10</td>\n      <td>7.6</td>\n      <td>5.5</td>\n      <td>744</td>\n      <td>10.3</td>\n      <td>1237</td>\n      <td>...</td>\n      <td>9.3</td>\n      <td>11.5</td>\n      <td>12.3</td>\n      <td>17.4</td>\n      <td>19.3</td>\n      <td>1.4</td>\n      <td>2.0</td>\n      <td>1.4</td>\n      <td>-{연무}-{연무}{강도0}0300-{연무}{강도0}0600-0705. {비}221...</td>\n      <td>NaN</td>\n    </tr>\n    <tr>\n      <th>741</th>\n      <td>741</td>\n      <td>0</td>\n      <td>184</td>\n      <td>제주</td>\n      <td>2022-01-11</td>\n      <td>3.6</td>\n      <td>1.3</td>\n      <td>1254</td>\n      <td>7.7</td>\n      <td>132</td>\n      <td>...</td>\n      <td>9.9</td>\n      <td>11.7</td>\n      <td>11.9</td>\n      <td>15.4</td>\n      <td>18.5</td>\n      <td>NaN</td>\n      <td>NaN</td>\n      <td>NaN</td>\n      <td>-{비}-0033. {비}0129-{비}{강도0}0300-0535. {비}0617-...</td>\n      <td>NaN</td>\n    </tr>\n  </tbody>\n</table>\n<p>742 rows × 64 columns</p>\n</div>"
     },
     "execution_count": 85,
     "metadata": {},
     "output_type": "execute_result"
    }
   ],
   "source": [
    "pd.read_csv('asos_최종_최종_최종.csv')"
   ],
   "metadata": {
    "collapsed": false,
    "pycharm": {
     "name": "#%%\n"
    }
   }
  },
  {
   "cell_type": "code",
   "execution_count": null,
   "outputs": [],
   "source": [],
   "metadata": {
    "collapsed": false,
    "pycharm": {
     "name": "#%%\n"
    }
   }
  }
 ],
 "metadata": {
  "kernelspec": {
   "display_name": "Python 3",
   "language": "python",
   "name": "python3"
  },
  "language_info": {
   "codemirror_mode": {
    "name": "ipython",
    "version": 2
   },
   "file_extension": ".py",
   "mimetype": "text/x-python",
   "name": "python",
   "nbconvert_exporter": "python",
   "pygments_lexer": "ipython2",
   "version": "2.7.6"
  }
 },
 "nbformat": 4,
 "nbformat_minor": 0
}